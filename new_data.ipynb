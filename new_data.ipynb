{
 "cells": [
  {
   "cell_type": "code",
   "execution_count": 1,
   "id": "93bdfb45-e558-4a42-9dfb-c17979a6e8d3",
   "metadata": {},
   "outputs": [],
   "source": [
    "import nltk\n",
    "from nltk.corpus import stopwords\n",
    "from math import sqrt\n",
    "from sklearn.preprocessing import OneHotEncoder\n",
    "from scipy.sparse import hstack"
   ]
  },
  {
   "cell_type": "code",
   "execution_count": 17,
   "id": "e022a21e-0cad-4a70-8632-1bb241416ecb",
   "metadata": {},
   "outputs": [],
   "source": [
    "import pickle \n",
    "\n",
    "with open('exp_splits.pkl', 'rb') as f:\n",
    "    data_splits = pickle.load(f)\n",
    "    \n",
    "test_review_data = data_splits['test']\n",
    "train_review_data = data_splits['train']\n",
    "val_review_data = data_splits['val']"
   ]
  },
  {
   "cell_type": "code",
   "execution_count": 10,
   "id": "79fa971b-f075-4777-8cbf-54aaa9a82e8a",
   "metadata": {},
   "outputs": [
    {
     "data": {
      "text/plain": [
       "dict_keys(['train', 'val', 'test'])"
      ]
     },
     "execution_count": 10,
     "metadata": {},
     "output_type": "execute_result"
    }
   ],
   "source": [
    "data_splits.keys()"
   ]
  },
  {
   "cell_type": "code",
   "execution_count": 18,
   "id": "9ecb060e-7d2e-415e-9d13-9a384d629932",
   "metadata": {},
   "outputs": [
    {
     "data": {
      "text/plain": [
       "{'reviewerID': 'A2QKXW3LDQ66P5',\n",
       " 'asin': 'B005X2F7KI',\n",
       " 'reviewerName': 'stephanie',\n",
       " 'helpful': [5, 6],\n",
       " 'reviewText': 'Absolutely great product.  I bought this for my fourteen year old niece for Christmas and of course I had to try it out, then I tried another one, and another one and another one.  So much fun!  I even contemplated keeping a few for myself!',\n",
       " 'overall': 5.0,\n",
       " 'summary': 'Perfect!',\n",
       " 'unixReviewTime': 1352937600,\n",
       " 'reviewTime': '11 15, 2012',\n",
       " 'explanation': 'Absolutely great product',\n",
       " 'feature': 'product'}"
      ]
     },
     "execution_count": 18,
     "metadata": {},
     "output_type": "execute_result"
    }
   ],
   "source": [
    "test_review_data[0]"
   ]
  },
  {
   "cell_type": "code",
   "execution_count": 19,
   "id": "95cf15f0-040c-4d22-98e1-ea571bccf4f7",
   "metadata": {},
   "outputs": [
    {
     "data": {
      "text/plain": [
       "{'reviewerID': 'A3G6XNM240RMWA',\n",
       " 'asin': '7806397051',\n",
       " 'reviewerName': 'Karen',\n",
       " 'helpful': [0, 1],\n",
       " 'reviewText': \"The texture of this concealer pallet is fantastic, it has great coverage and a wide variety of uses, I guess it's meant for professional makeup artists and a lot of the colours are of no use to me but I use at least two of them on a regular basis, and two more occasionally, which is the only reason I'm giving it for stars, I feel like the range of colors is kind of a waste for me, but the  product itself  is wonderful, it's not cakey, gives me a natural for and concealed my imperfections, therefore I highly recommend it :)\",\n",
       " 'overall': 4.0,\n",
       " 'summary': 'great quality',\n",
       " 'unixReviewTime': 1378425600,\n",
       " 'reviewTime': '09 6, 2013',\n",
       " 'explanation': 'great quality',\n",
       " 'feature': 'quality'}"
      ]
     },
     "execution_count": 19,
     "metadata": {},
     "output_type": "execute_result"
    }
   ],
   "source": [
    "train_review_data[0]"
   ]
  },
  {
   "cell_type": "code",
   "execution_count": 20,
   "id": "de4ffca9-5452-40a8-824d-f851332b82ee",
   "metadata": {},
   "outputs": [
    {
     "data": {
      "text/plain": [
       "{'reviewerID': 'A1CQWEPJ2GH1I6',\n",
       " 'asin': 'B00478VG9U',\n",
       " 'reviewerName': 'Kathy \"Kathy\"',\n",
       " 'helpful': [1, 2],\n",
       " 'reviewText': \"But as I've always said, wen products are way overpriced and they can't get a 5 star rating from me until the price is more reasonable. Just because you can gouge, doesn't mean you should. Sorry wen, but it's just too much. Besides that, it's the best thing going for hair right now in my opinion. lol! If money is no object, you must use this every single time you 'wash' your hair. My hair is usually really dry, but I'm positive it will work on oily hair as well. I don't like ANY of the scents, and it kind of 'burns' or 'tingles' too much the first time you use it. But it's a magic potion. No lie.\",\n",
       " 'overall': 4.0,\n",
       " 'summary': 'yes I love this stuff',\n",
       " 'unixReviewTime': 1366329600,\n",
       " 'reviewTime': '04 19, 2013',\n",
       " 'explanation': 'My hair is usually really dry',\n",
       " 'feature': 'hair'}"
      ]
     },
     "execution_count": 20,
     "metadata": {},
     "output_type": "execute_result"
    }
   ],
   "source": [
    "val_review_data[0]"
   ]
  },
  {
   "cell_type": "code",
   "execution_count": 21,
   "id": "304ea411-db34-43b1-ad0a-43320bd8fb8f",
   "metadata": {},
   "outputs": [],
   "source": [
    "for row in test_review_data:\n",
    "    a = row['helpful'][0]\n",
    "    b = row['helpful'][1]\n",
    "    if b>0:\n",
    "        row['helpful'] = (a/b)*5\n",
    "    else:\n",
    "        row['helpful'] = 0"
   ]
  },
  {
   "cell_type": "code",
   "execution_count": 22,
   "id": "c99fdc2c-6c48-49bd-99ee-02234924d98c",
   "metadata": {},
   "outputs": [],
   "source": [
    "for row in train_review_data:\n",
    "    a = row['helpful'][0]\n",
    "    b = row['helpful'][1]\n",
    "    if b>0:\n",
    "        row['helpful'] = (a/b)*5\n",
    "    else:\n",
    "        row['helpful'] = 0"
   ]
  },
  {
   "cell_type": "code",
   "execution_count": 23,
   "id": "24b92fef-4fef-4574-8152-88f598bae3e7",
   "metadata": {},
   "outputs": [],
   "source": [
    "for row in val_review_data:\n",
    "    a = row['helpful'][0]\n",
    "    b = row['helpful'][1]\n",
    "    if b>0:\n",
    "        row['helpful'] = (a/b)*5\n",
    "    else:\n",
    "        row['helpful'] = 0"
   ]
  },
  {
   "cell_type": "code",
   "execution_count": 24,
   "id": "9138e360-b360-4b6e-96d8-49dce48e6726",
   "metadata": {},
   "outputs": [],
   "source": [
    "data_splits['test'] = test_review_data\n",
    "data_splits['train'] = train_review_data\n",
    "data_splits['val'] = val_review_data"
   ]
  },
  {
   "cell_type": "code",
   "execution_count": null,
   "id": "3142e094-7693-4fcb-8218-e0f9b3005be0",
   "metadata": {},
   "outputs": [],
   "source": [
    "train_review_data"
   ]
  },
  {
   "cell_type": "code",
   "execution_count": 25,
   "id": "97eb3d1f-231d-4647-8c3c-a5e4c4fa2734",
   "metadata": {},
   "outputs": [
    {
     "data": {
      "text/plain": [
       "{'reviewerID': 'A2QKXW3LDQ66P5',\n",
       " 'asin': 'B005X2F7KI',\n",
       " 'reviewerName': 'stephanie',\n",
       " 'helpful': 4.166666666666667,\n",
       " 'reviewText': 'Absolutely great product.  I bought this for my fourteen year old niece for Christmas and of course I had to try it out, then I tried another one, and another one and another one.  So much fun!  I even contemplated keeping a few for myself!',\n",
       " 'overall': 5.0,\n",
       " 'summary': 'Perfect!',\n",
       " 'unixReviewTime': 1352937600,\n",
       " 'reviewTime': '11 15, 2012',\n",
       " 'explanation': 'Absolutely great product',\n",
       " 'feature': 'product'}"
      ]
     },
     "execution_count": 25,
     "metadata": {},
     "output_type": "execute_result"
    }
   ],
   "source": [
    "test_review_data[0]"
   ]
  },
  {
   "cell_type": "code",
   "execution_count": 25,
   "id": "17f52e1c-6972-4caf-aae1-e4036ecccc24",
   "metadata": {},
   "outputs": [],
   "source": [
    "with open('data/beauty/exp_splits.pkl', 'wb') as f:\n",
    "    pickle.dump(data_splits, f) "
   ]
  }
 ],
 "metadata": {
  "kernelspec": {
   "display_name": "hw_rec",
   "language": "python",
   "name": "hw_rec"
  },
  "language_info": {
   "codemirror_mode": {
    "name": "ipython",
    "version": 3
   },
   "file_extension": ".py",
   "mimetype": "text/x-python",
   "name": "python",
   "nbconvert_exporter": "python",
   "pygments_lexer": "ipython3",
   "version": "3.9.7"
  }
 },
 "nbformat": 4,
 "nbformat_minor": 5
}
